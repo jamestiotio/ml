{
 "cells": [
  {
   "cell_type": "markdown",
   "metadata": {},
   "source": [
    "# SUTD 2021 50.007 Homework 2\n",
    "> James Raphael Tiovalen / 1004555"
   ]
  },
  {
   "cell_type": "code",
   "execution_count": 1,
   "metadata": {},
   "outputs": [
    {
     "name": "stdout",
     "output_type": "stream",
     "text": [
      "Requirement already satisfied: numpy in c:\\python38\\lib\\site-packages (1.19.5)\n",
      "Requirement already satisfied: scipy in c:\\python38\\lib\\site-packages (1.5.2)\n",
      "Requirement already satisfied: numba in c:\\python38\\lib\\site-packages (0.52.0)\n",
      "Requirement already satisfied: libsvm-official in c:\\python38\\lib\\site-packages (3.25.0)\n",
      "Requirement already satisfied: setuptools in c:\\python38\\lib\\site-packages (from numba) (49.2.1)\n",
      "Requirement already satisfied: llvmlite<0.36,>=0.35.0 in c:\\python38\\lib\\site-packages (from numba) (0.35.0)\n"
     ]
    }
   ],
   "source": [
    "# Setup and install dependencies\n",
    "!pip3 install numpy scipy numba libsvm-official"
   ]
  },
  {
   "cell_type": "markdown",
   "metadata": {},
   "source": [
    "## Question 2.3"
   ]
  },
  {
   "cell_type": "code",
   "execution_count": 2,
   "metadata": {},
   "outputs": [],
   "source": [
    "# Import libraries\n",
    "from libsvm.svmutil import svm_read_problem, svm_train, svm_predict\n",
    "import os\n",
    "\n",
    "# Set OS-independent paths, relative to current directory\n",
    "train_path = os.path.join(\"fishorrock\", \"training.txt\")\n",
    "test_path = os.path.join(\"fishorrock\", \"test.txt\")\n",
    "\n",
    "# Load data from files\n",
    "train_y, train_x = svm_read_problem(train_path)\n",
    "test_y, test_x = svm_read_problem(test_path)"
   ]
  },
  {
   "cell_type": "code",
   "execution_count": 3,
   "metadata": {},
   "outputs": [],
   "source": [
    "# Train different SVM models with 4 different kernel types\n",
    "linear = svm_train(train_y, train_x, \"-t 0\")\n",
    "polynomial = svm_train(train_y, train_x, \"-t 1\")\n",
    "rbf = svm_train(train_y, train_x, \"-t 2\")\n",
    "sigmoid = svm_train(train_y, train_x, \"-t 3\")"
   ]
  },
  {
   "cell_type": "code",
   "execution_count": 4,
   "metadata": {},
   "outputs": [
    {
     "name": "stdout",
     "output_type": "stream",
     "text": [
      "Executing SVM prediction with LINEAR kernel type...\n",
      "Accuracy = 79.3651% (50/63) (classification)\n",
      "\n",
      "Executing SVM prediction with POLYNOMIAL kernel type...\n",
      "Accuracy = 55.5556% (35/63) (classification)\n",
      "\n",
      "Executing SVM prediction with RADIAL BASIS FUNCTION kernel type...\n",
      "Accuracy = 87.3016% (55/63) (classification)\n",
      "\n",
      "Executing SVM prediction with SIGMOID kernel type...\n",
      "Accuracy = 82.5397% (52/63) (classification)\n",
      "\n",
      "Best accuracy achieved is 87.3016% with the RADIAL BASIS FUNCTION kernel type.\n"
     ]
    }
   ],
   "source": [
    "# Get accuracy of the 4 different SVM models and print the kernel type with best accuracy\n",
    "best_accuracy = -1\n",
    "best_acc_index = -1\n",
    "kernel_types = [\"LINEAR\", \"POLYNOMIAL\", \"RADIAL BASIS FUNCTION\", \"SIGMOID\"]\n",
    "\n",
    "for idx, model in enumerate([linear, polynomial, rbf, sigmoid]):\n",
    "    print(f\"Executing SVM prediction with {kernel_types[idx]} kernel type...\")\n",
    "    p_label, p_acc, p_val = svm_predict(test_y, test_x, model)\n",
    "    print()\n",
    "    if p_acc[0] > best_accuracy:\n",
    "        best_accuracy = p_acc[0]\n",
    "        best_acc_index = idx\n",
    "\n",
    "print(f\"Best accuracy achieved is {best_accuracy:.4f}% with the {kernel_types[best_acc_index]} kernel type.\")"
   ]
  },
  {
   "cell_type": "markdown",
   "metadata": {},
   "source": [
    "We select the RADIAL BASIS FUNCTION kernel since it achieved the best performance in terms of highest test accuracy."
   ]
  }
 ],
 "metadata": {
  "interpreter": {
   "hash": "2db524e06e9f5f4ffedc911c917cb75e12dbc923643829bf417064a77eb14d37"
  },
  "kernelspec": {
   "display_name": "Python 3.8.6 64-bit",
   "name": "python3"
  },
  "language_info": {
   "codemirror_mode": {
    "name": "ipython",
    "version": 3
   },
   "file_extension": ".py",
   "mimetype": "text/x-python",
   "name": "python",
   "nbconvert_exporter": "python",
   "pygments_lexer": "ipython3",
   "version": "3.8.6"
  },
  "orig_nbformat": 4
 },
 "nbformat": 4,
 "nbformat_minor": 2
}
