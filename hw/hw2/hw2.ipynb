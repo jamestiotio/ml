{
 "cells": [
  {
   "cell_type": "markdown",
   "metadata": {},
   "source": [
    "# SUTD 2021 50.007 Homework 2\n",
    "> James Raphael Tiovalen / 1004555"
   ]
  },
  {
   "cell_type": "code",
   "execution_count": 4,
   "metadata": {},
   "outputs": [
    {
     "name": "stdout",
     "output_type": "stream",
     "text": [
      "Requirement already satisfied: numpy in c:\\users\\jamestiotio\\appdata\\roaming\\python\\python38\\site-packages (1.19.5)\n",
      "Requirement already satisfied: libsvm-official in c:\\python38\\lib\\site-packages (3.25.0)\n",
      "Requirement already satisfied: scipy in c:\\python38\\lib\\site-packages (from libsvm-official) (1.5.2)\n"
     ]
    }
   ],
   "source": [
    "# Setup and install dependencies\n",
    "!pip3 install numpy libsvm-official"
   ]
  },
  {
   "cell_type": "markdown",
   "metadata": {},
   "source": [
    "## Question 2.3"
   ]
  }
 ],
 "metadata": {
  "interpreter": {
   "hash": "2db524e06e9f5f4ffedc911c917cb75e12dbc923643829bf417064a77eb14d37"
  },
  "kernelspec": {
   "display_name": "Python 3.8.6 64-bit",
   "name": "python3"
  },
  "language_info": {
   "codemirror_mode": {
    "name": "ipython",
    "version": 3
   },
   "file_extension": ".py",
   "mimetype": "text/x-python",
   "name": "python",
   "nbconvert_exporter": "python",
   "pygments_lexer": "ipython3",
   "version": "3.8.6"
  },
  "orig_nbformat": 4
 },
 "nbformat": 4,
 "nbformat_minor": 2
}
