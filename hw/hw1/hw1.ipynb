{
 "cells": [
  {
   "cell_type": "markdown",
   "source": [
    "# SUTD 2021 50.007 Homework 1\r\n",
    "\r\n",
    "> James Raphael Tiovalen / 1004555"
   ],
   "metadata": {}
  },
  {
   "cell_type": "code",
   "execution_count": 8,
   "source": [
    "# Setup and install dependencies\r\n",
    "!pip3 install numpy matplotlib\r\n",
    "\r\n",
    "# Import libraries\r\n",
    "import os\r\n",
    "import secrets\r\n",
    "import numpy as np\r\n",
    "import matplotlib.pyplot as plt"
   ],
   "outputs": [
    {
     "output_type": "stream",
     "name": "stdout",
     "text": [
      "Requirement already satisfied: numpy in c:\\python38\\lib\\site-packages (1.19.2)\n",
      "Requirement already satisfied: matplotlib in c:\\python38\\lib\\site-packages (3.3.2)\n",
      "Requirement already satisfied: python-dateutil>=2.1 in c:\\python38\\lib\\site-packages (from matplotlib) (2.8.1)\n",
      "Requirement already satisfied: certifi>=2020.06.20 in c:\\python38\\lib\\site-packages (from matplotlib) (2020.6.20)\n",
      "Requirement already satisfied: cycler>=0.10 in c:\\python38\\lib\\site-packages (from matplotlib) (0.10.0)\n",
      "Requirement already satisfied: pyparsing!=2.0.4,!=2.1.2,!=2.1.6,>=2.0.3 in c:\\python38\\lib\\site-packages (from matplotlib) (2.4.7)\n",
      "Requirement already satisfied: kiwisolver>=1.0.1 in c:\\python38\\lib\\site-packages (from matplotlib) (1.2.0)\n",
      "Requirement already satisfied: pillow>=6.2.0 in c:\\python38\\lib\\site-packages (from matplotlib) (7.2.0)\n",
      "Requirement already satisfied: six in c:\\python38\\lib\\site-packages (from cycler>=0.10->matplotlib) (1.15.0)\n"
     ]
    }
   ],
   "metadata": {}
  },
  {
   "cell_type": "markdown",
   "source": [
    "## 2. Linear Classification"
   ],
   "metadata": {}
  },
  {
   "cell_type": "code",
   "execution_count": 9,
   "source": [
    "# Set OS-independent paths, relative to current directory\r\n",
    "train_path = os.path.join('HW1_data', '1', 'train_1_5.csv')\r\n",
    "test_path = os.path.join('HW1_data', '1', 'test_1_5.csv')\r\n",
    "\r\n",
    "# Read the data\r\n",
    "train_data = np.genfromtxt(train_path, delimiter=',')\r\n",
    "test_data = np.genfromtxt(test_path, delimiter=',')"
   ],
   "outputs": [],
   "metadata": {}
  },
  {
   "cell_type": "code",
   "execution_count": null,
   "source": [],
   "outputs": [],
   "metadata": {}
  },
  {
   "cell_type": "markdown",
   "source": [
    "### (a) Perceptron Algorithm for 1 Epoch"
   ],
   "metadata": {}
  },
  {
   "cell_type": "code",
   "execution_count": null,
   "source": [],
   "outputs": [],
   "metadata": {}
  },
  {
   "cell_type": "markdown",
   "source": [
    "### (b) Perceptron Algorithm for 5 Epochs"
   ],
   "metadata": {}
  },
  {
   "cell_type": "code",
   "execution_count": null,
   "source": [],
   "outputs": [],
   "metadata": {}
  },
  {
   "cell_type": "markdown",
   "source": [
    "## 3. Linear and Polynomial Regression"
   ],
   "metadata": {}
  },
  {
   "cell_type": "code",
   "execution_count": 10,
   "source": [
    "# Set OS-independent paths, relative to current directory\r\n",
    "x_path = os.path.join('HW1_data', '2', 'hw1x.dat')\r\n",
    "y_path = os.path.join('HW1_data', '2', 'hw1y.dat')\r\n",
    "\r\n",
    "# Read the data\r\n",
    "x1 = np.genfromtxt(x_path)\r\n",
    "y = np.genfromtxt(y_path)\r\n",
    "n = len(x1)\r\n",
    "X = np.c_[np.ones(n), x1]  # c_ combines two 1D arrays into columns of a 2D array\r\n",
    "learning_rate = 0.01"
   ],
   "outputs": [],
   "metadata": {}
  },
  {
   "cell_type": "markdown",
   "source": [
    "### (a) Closed Form Linear Regression Formula"
   ],
   "metadata": {}
  },
  {
   "cell_type": "code",
   "execution_count": null,
   "source": [],
   "outputs": [],
   "metadata": {}
  },
  {
   "cell_type": "markdown",
   "source": [
    "### (b) Part 1: Batch Gradient Descent"
   ],
   "metadata": {}
  },
  {
   "cell_type": "code",
   "execution_count": null,
   "source": [],
   "outputs": [],
   "metadata": {}
  },
  {
   "cell_type": "markdown",
   "source": [
    "### (b) Part 2: Stochastic Gradient Descent"
   ],
   "metadata": {}
  },
  {
   "cell_type": "code",
   "execution_count": null,
   "source": [],
   "outputs": [],
   "metadata": {}
  },
  {
   "cell_type": "markdown",
   "source": [
    "### (c) Polynomial Regression"
   ],
   "metadata": {}
  },
  {
   "cell_type": "code",
   "execution_count": null,
   "source": [],
   "outputs": [],
   "metadata": {}
  },
  {
   "cell_type": "markdown",
   "source": [
    "## 4. Ridge Regression"
   ],
   "metadata": {}
  },
  {
   "cell_type": "code",
   "execution_count": 11,
   "source": [
    "# Set OS-independent paths, relative to current directory\r\n",
    "x_path = os.path.join('HW1_data', '3', 'hw1_ridge_x.dat')\r\n",
    "y_path = os.path.join('HW1_data', '3', 'hw1_ridge_y.dat')\r\n",
    "\r\n",
    "# Read the data. Note that the x_0 (column of 1s) is at the end.\r\n",
    "X = np.genfromtxt(x_path, delimiter=',')\r\n",
    "Y = np.genfromtxt(y_path)\r\n",
    "val_size = 10\r\n",
    "tX = X[val_size:, :]\r\n",
    "tY = Y[val_size:]\r\n",
    "vX = X[:val_size, :]\r\n",
    "vY = Y[:val_size]"
   ],
   "outputs": [],
   "metadata": {}
  },
  {
   "cell_type": "markdown",
   "source": [
    "### (a) Ridge Regression"
   ],
   "metadata": {}
  },
  {
   "cell_type": "code",
   "execution_count": null,
   "source": [],
   "outputs": [],
   "metadata": {}
  },
  {
   "cell_type": "markdown",
   "source": [
    "### (b) Loss Graphs Plotting"
   ],
   "metadata": {}
  },
  {
   "cell_type": "code",
   "execution_count": null,
   "source": [],
   "outputs": [],
   "metadata": {}
  }
 ],
 "metadata": {
  "orig_nbformat": 4,
  "language_info": {
   "name": "python",
   "version": "3.8.6",
   "mimetype": "text/x-python",
   "codemirror_mode": {
    "name": "ipython",
    "version": 3
   },
   "pygments_lexer": "ipython3",
   "nbconvert_exporter": "python",
   "file_extension": ".py"
  },
  "kernelspec": {
   "name": "python3",
   "display_name": "Python 3.8.6 64-bit"
  },
  "interpreter": {
   "hash": "2db524e06e9f5f4ffedc911c917cb75e12dbc923643829bf417064a77eb14d37"
  }
 },
 "nbformat": 4,
 "nbformat_minor": 2
}